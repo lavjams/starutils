{
 "metadata": {
  "name": "",
  "signature": "sha256:f5d1d9f85988e5c9dd1babce423f084149cbc7a4448950560051f720414c09ba"
 },
 "nbformat": 3,
 "nbformat_minor": 0,
 "worksheets": []
}