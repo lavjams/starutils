{
 "metadata": {
  "name": "",
  "signature": "sha256:37248f7f7a41e3eb04cf5b67f060c059f813e2666c0788a754510e5ee5029075"
 },
 "nbformat": 3,
 "nbformat_minor": 0,
 "worksheets": [
  {
   "cells": [
    {
     "cell_type": "code",
     "collapsed": false,
     "input": [
      "import "
     ],
     "language": "python",
     "metadata": {},
     "outputs": []
    }
   ],
   "metadata": {}
  }
 ]
}