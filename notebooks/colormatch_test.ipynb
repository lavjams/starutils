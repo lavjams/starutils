{
 "metadata": {
  "name": "",
  "signature": "sha256:95fe826b8646d1b219f429b9d2d1d3d89c976fddf8fb0e3ff05c18c1003de604"
 },
 "nbformat": 3,
 "nbformat_minor": 0,
 "worksheets": [
  {
   "cells": [
    {
     "cell_type": "code",
     "collapsed": false,
     "input": [
      "%matplotlib inline\n",
      "\n",
      "import matplotlib.pyplot as plt\n",
      "import numpy as np\n",
      "import pandas as pd\n",
      "import time\n",
      "\n",
      "from keputils import koiutils as ku\n",
      "\n",
      "from starutils.populations import ColormatchMultipleStarPopulation\n",
      "from starutils.populations import StarPopulation_FromH5\n",
      "from simpledist.distributions import Gaussian_Distribution, Box_Distribution"
     ],
     "language": "python",
     "metadata": {},
     "outputs": [],
     "prompt_number": 1
    },
    {
     "cell_type": "code",
     "collapsed": false,
     "input": [
      "from starutils.populations import BGStarPopulation_TRILEGAL\n",
      "\n",
      "ra,dec = ku.radec(87) #kepler-22\n",
      "bgpop = BGStarPopulation_TRILEGAL('kepler22b.h5', ra, dec)"
     ],
     "language": "python",
     "metadata": {},
     "outputs": [],
     "prompt_number": 2
    },
    {
     "cell_type": "code",
     "collapsed": false,
     "input": [
      "mags = ku.KICmags(87) #kepler-22\n",
      "start = time.time()\n",
      "#pop = ColormatchMultipleStarPopulation(mags, starfield='kepler22b.h5', n=2e4)\n",
      "pop = ColormatchMultipleStarPopulation(mags, m1=(1,0.1),\n",
      "                                       age=(9.7,0.1),\n",
      "                                       feh=(0,0.1), n=2e4)\n",
      "end = time.time()\n",
      "print '{} minutes.'.format((end-start)/60)"
     ],
     "language": "python",
     "metadata": {},
     "outputs": [
      {
       "output_type": "stream",
       "stream": "stdout",
       "text": [
        "16648\n",
        "20688"
       ]
      },
      {
       "output_type": "stream",
       "stream": "stdout",
       "text": [
        "\n",
        "0.230092167854 minutes."
       ]
      },
      {
       "output_type": "stream",
       "stream": "stdout",
       "text": [
        "\n"
       ]
      }
     ],
     "prompt_number": 2
    },
    {
     "cell_type": "code",
     "collapsed": false,
     "input": [
      "pop.save_hdf('testpop.h5')"
     ],
     "language": "python",
     "metadata": {},
     "outputs": [],
     "prompt_number": 3
    },
    {
     "cell_type": "code",
     "collapsed": false,
     "input": [
      "newpop = StarPopulation_FromH5('testpop.h5')"
     ],
     "language": "python",
     "metadata": {},
     "outputs": [],
     "prompt_number": 4
    },
    {
     "cell_type": "code",
     "collapsed": false,
     "input": [
      "newpop.orbpop"
     ],
     "language": "python",
     "metadata": {},
     "outputs": [
      {
       "metadata": {},
       "output_type": "pyout",
       "prompt_number": 5,
       "text": [
        "<orbitutils.populations.TripleOrbitPopulation_FromH5 at 0x7f13b42b0310>"
       ]
      }
     ],
     "prompt_number": 5
    },
    {
     "cell_type": "code",
     "collapsed": false,
     "input": [
      "pop.orbpop"
     ],
     "language": "python",
     "metadata": {},
     "outputs": [
      {
       "metadata": {},
       "output_type": "pyout",
       "prompt_number": 6,
       "text": [
        "<orbitutils.populations.TripleOrbitPopulation_FromDF at 0x7f1380f8d5d0>"
       ]
      }
     ],
     "prompt_number": 6
    },
    {
     "cell_type": "code",
     "collapsed": false,
     "input": [
      "np.allclose(pop.orbpop.Rsky, newpop.orbpop.Rsky)"
     ],
     "language": "python",
     "metadata": {},
     "outputs": [
      {
       "metadata": {},
       "output_type": "pyout",
       "prompt_number": 7,
       "text": [
        "True"
       ]
      }
     ],
     "prompt_number": 7
    },
    {
     "cell_type": "code",
     "collapsed": false,
     "input": [],
     "language": "python",
     "metadata": {},
     "outputs": []
    }
   ],
   "metadata": {}
  }
 ]
}