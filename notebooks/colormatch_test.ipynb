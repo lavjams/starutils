{
 "metadata": {
  "name": "",
  "signature": "sha256:3cb0281409a28c1b0111e64a8bc57348fa81b3140f0c97503dd7147e009f8d8c"
 },
 "nbformat": 3,
 "nbformat_minor": 0,
 "worksheets": [
  {
   "cells": [
    {
     "cell_type": "code",
     "collapsed": false,
     "input": [
      "%matplotlib inline\n",
      "\n",
      "import matplotlib.pyplot as plt\n",
      "import numpy as np\n",
      "import pandas as pd\n",
      "import time\n",
      "\n",
      "from keputils import koiutils as ku\n",
      "\n",
      "from starutils.populations import ColormatchMultipleStarPopulation"
     ],
     "language": "python",
     "metadata": {},
     "outputs": [],
     "prompt_number": 2
    },
    {
     "cell_type": "code",
     "collapsed": false,
     "input": [
      "from starutils.populations import BGStarPopulation_TRILEGAL\n",
      "\n",
      "ra,dec = ku.radec(87) #kepler-22\n",
      "bgpop = BGStarPopulation_TRILEGAL('kepler22b.h5', ra, dec)"
     ],
     "language": "python",
     "metadata": {},
     "outputs": [],
     "prompt_number": 2
    },
    {
     "cell_type": "code",
     "collapsed": false,
     "input": [
      "mags = ku.KICmags(87) #kepler-22\n",
      "start = time.time()\n",
      "pop = ColormatchMultipleStarPopulation(mags, starfield='kepler22b.h5', n=2e4)\n",
      "end = time.time()\n",
      "print '{} minutes.'.format((end-start)/60)"
     ],
     "language": "python",
     "metadata": {},
     "outputs": [
      {
       "output_type": "stream",
       "stream": "stdout",
       "text": [
        "616\n",
        "10117"
       ]
      },
      {
       "output_type": "stream",
       "stream": "stdout",
       "text": [
        "\n",
        "19636"
       ]
      },
      {
       "output_type": "stream",
       "stream": "stdout",
       "text": [
        "\n",
        "20089"
       ]
      },
      {
       "output_type": "stream",
       "stream": "stdout",
       "text": [
        "\n",
        "2.28289730151 minutes."
       ]
      },
      {
       "output_type": "stream",
       "stream": "stdout",
       "text": [
        "\n"
       ]
      }
     ],
     "prompt_number": 3
    },
    {
     "cell_type": "code",
     "collapsed": false,
     "input": [],
     "language": "python",
     "metadata": {},
     "outputs": []
    }
   ],
   "metadata": {}
  }
 ]
}