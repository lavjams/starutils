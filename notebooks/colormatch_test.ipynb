{
 "metadata": {
  "name": "",
  "signature": "sha256:64d3afd003f2810bd6dab556ede05c25acfa240edad0d9ec2e45ebebece92a97"
 },
 "nbformat": 3,
 "nbformat_minor": 0,
 "worksheets": [
  {
   "cells": [
    {
     "cell_type": "code",
     "collapsed": false,
     "input": [
      "%matplotlib inline\n",
      "\n",
      "import matplotlib.pyplot as plt\n",
      "import numpy as np\n",
      "import pandas as pd\n",
      "import time\n",
      "\n",
      "from keputils import koiutils as ku\n",
      "\n",
      "from starutils.populations import ColormatchMultipleStarPopulation, BGStarPopulation_TRILEGAL"
     ],
     "language": "python",
     "metadata": {},
     "outputs": [],
     "prompt_number": 1
    },
    {
     "cell_type": "code",
     "collapsed": false,
     "input": [
      "ra,dec = ku.radec(87) #kepler-22\n",
      "bgpop = BGStarPopulation_TRILEGAL('kepler22b.h5', ra, dec)"
     ],
     "language": "python",
     "metadata": {},
     "outputs": [],
     "prompt_number": 2
    },
    {
     "cell_type": "code",
     "collapsed": false,
     "input": [
      "mags = ku.KICmags(87) #kepler-22\n",
      "start = time.time()\n",
      "#pop = ColormatchMultipleStarPopulation(mags, starfield='kepler22b.h5', n=2e4)\n",
      "pop = ColormatchMultipleStarPopulation(mags, m1=(1,0.1),\n",
      "                                       age=(9.7,0.1),\n",
      "                                       feh=(0,0.1), n=2e4)\n",
      "end = time.time()\n",
      "print '{} minutes.'.format((end-start)/60)"
     ],
     "language": "python",
     "metadata": {},
     "outputs": [
      {
       "output_type": "stream",
       "stream": "stdout",
       "text": [
        "0.218014367421 minutes.\n"
       ]
      }
     ],
     "prompt_number": 2
    },
    {
     "cell_type": "code",
     "collapsed": false,
     "input": [
      "pop.stars.columns"
     ],
     "language": "python",
     "metadata": {},
     "outputs": [
      {
       "metadata": {},
       "output_type": "pyout",
       "prompt_number": 4,
       "text": [
        "Index([u'B_mag', u'B_mag_A', u'D51_mag', u'D51_mag_A', u'H_mag', u'H_mag_A', u'I_mag', u'I_mag_A', u'J_mag', u'J_mag_A', u'K_mag', u'K_mag_A', u'Kepler_mag', u'Kepler_mag_A', u'R_mag', u'R_mag_A', u'Teff_A', u'U_mag', u'U_mag_A', u'V_mag', u'V_mag_A', u'age_A', u'g_mag', u'g_mag_A', u'i_mag', u'i_mag_A', u'logL_A', u'logg_A', u'mass_A', u'r_mag', u'r_mag_A', u'radius_A', u'z_mag', u'z_mag_A', u'B_mag_B', u'D51_mag_B', u'H_mag_B', u'I_mag_B', u'J_mag_B', u'K_mag_B', u'Kepler_mag_B', u'R_mag_B', u'Teff_B', u'U_mag_B', u'V_mag_B', u'age_B', u'g_mag_B', u'i_mag_B', u'logL_B', u'logg_B', u'mass_B', u'r_mag_B', u'radius_B', u'z_mag_B', u'B_mag_C', u'D51_mag_C', u'H_mag_C', u'I_mag_C', u'J_mag_C', u'K_mag_C', u'Kepler_mag_C', u'R_mag_C', u'Teff_C', u'U_mag_C', u'V_mag_C', u'age_C', u'g_mag_C', u'i_mag_C', u'logL_C', u'logg_C', u'mass_C', u'r_mag_C', u'radius_C', u'z_mag_C', u'distance', u'distmod'], dtype='object')"
       ]
      }
     ],
     "prompt_number": 4
    },
    {
     "cell_type": "code",
     "collapsed": false,
     "input": [
      "bgpop.save_hdf('bgpoptest.h5', overwrite=True)\n",
      "pop.save_hdf('colormatchpoptest.h5', overwrite=True)"
     ],
     "language": "python",
     "metadata": {},
     "outputs": [],
     "prompt_number": 4
    },
    {
     "cell_type": "code",
     "collapsed": false,
     "input": [
      "bgpop2 = BGStarPopulation_TRILEGAL().load_hdf('bgpoptest.h5')"
     ],
     "language": "python",
     "metadata": {},
     "outputs": [],
     "prompt_number": 5
    },
    {
     "cell_type": "code",
     "collapsed": false,
     "input": [
      "pop2 = ColormatchMultipleStarPopulation().load_hdf('colormatchpoptest.h5')"
     ],
     "language": "python",
     "metadata": {},
     "outputs": [],
     "prompt_number": 6
    },
    {
     "cell_type": "code",
     "collapsed": false,
     "input": [
      "mags"
     ],
     "language": "python",
     "metadata": {},
     "outputs": [
      {
       "metadata": {},
       "output_type": "pyout",
       "prompt_number": 13,
       "text": [
        "{'H': 10.211,\n",
        " 'J': 10.523,\n",
        " 'K': 10.152000000000001,\n",
        " 'Kepler': 11.664000000000001,\n",
        " 'Ks': 10.152000000000001,\n",
        " 'g': 12.042879099999999,\n",
        " 'h': 10.211,\n",
        " 'i': 11.4300704,\n",
        " 'j': 10.523,\n",
        " 'k': 10.152000000000001,\n",
        " 'kep': 11.664000000000001,\n",
        " 'r': 11.596865200000002,\n",
        " 'z': 11.393061000000001}"
       ]
      }
     ],
     "prompt_number": 13
    },
    {
     "cell_type": "code",
     "collapsed": false,
     "input": [
      "pop2.ecc_fn"
     ],
     "language": "python",
     "metadata": {},
     "outputs": [
      {
       "metadata": {},
       "output_type": "pyout",
       "prompt_number": 14,
       "text": [
        "<function starutils.utils.draw_eccs>"
       ]
      }
     ],
     "prompt_number": 14
    },
    {
     "cell_type": "code",
     "collapsed": false,
     "input": [
      "ra, dec"
     ],
     "language": "python",
     "metadata": {},
     "outputs": [
      {
       "metadata": {},
       "output_type": "pyout",
       "prompt_number": 16,
       "text": [
        "(289.21749900000003, 47.884459999999997)"
       ]
      }
     ],
     "prompt_number": 16
    },
    {
     "cell_type": "code",
     "collapsed": false,
     "input": [],
     "language": "python",
     "metadata": {},
     "outputs": []
    }
   ],
   "metadata": {}
  }
 ]
}