{
 "metadata": {
  "name": "",
  "signature": "sha256:b836b63858bdf2b4e4901628ead51f7d607be0f158afed0aad30ab755131d213"
 },
 "nbformat": 3,
 "nbformat_minor": 0,
 "worksheets": [
  {
   "cells": [
    {
     "cell_type": "code",
     "collapsed": false,
     "input": [
      "%matplotlib inline\n",
      "\n",
      "import matplotlib.pyplot as plt\n",
      "import numpy as np\n",
      "import pandas as pd\n",
      "import time\n",
      "\n",
      "from keputils import koiutils as ku\n",
      "\n",
      "from starutils.populations import ColormatchMultipleStarPopulation\n",
      "from simpledist.distributions import Gaussian_Distribution, Box_Distribution"
     ],
     "language": "python",
     "metadata": {},
     "outputs": [],
     "prompt_number": 1
    },
    {
     "cell_type": "code",
     "collapsed": false,
     "input": [
      "from starutils.populations import BGStarPopulation_TRILEGAL\n",
      "\n",
      "ra,dec = ku.radec(87) #kepler-22\n",
      "bgpop = BGStarPopulation_TRILEGAL('kepler22b.h5', ra, dec)"
     ],
     "language": "python",
     "metadata": {},
     "outputs": [],
     "prompt_number": 2
    },
    {
     "cell_type": "code",
     "collapsed": false,
     "input": [
      "mags = ku.KICmags(87) #kepler-22\n",
      "start = time.time()\n",
      "#pop = ColormatchMultipleStarPopulation(mags, starfield='kepler22b.h5', n=2e4)\n",
      "pop = ColormatchMultipleStarPopulation(mags, m1=(1,0.1),\n",
      "                                       age=(9.7,0.1),\n",
      "                                       feh=(0,0.1), n=2e4)\n",
      "end = time.time()\n",
      "print '{} minutes.'.format((end-start)/60)"
     ],
     "language": "python",
     "metadata": {},
     "outputs": []
    },
    {
     "cell_type": "code",
     "collapsed": false,
     "input": [
      "bgpop.save_hd"
     ],
     "language": "python",
     "metadata": {},
     "outputs": []
    }
   ],
   "metadata": {}
  }
 ]
}