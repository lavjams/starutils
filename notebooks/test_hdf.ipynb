{
 "metadata": {
  "name": "",
  "signature": "sha256:3e3898ea99a34f7f9b08e57f3d617d6c4204e806e231395d43c81c81cdff52f6"
 },
 "nbformat": 3,
 "nbformat_minor": 0,
 "worksheets": [
  {
   "cells": [
    {
     "cell_type": "code",
     "collapsed": false,
     "input": [
      "%matplotlib inline"
     ],
     "language": "python",
     "metadata": {},
     "outputs": [],
     "prompt_number": 1
    },
    {
     "cell_type": "code",
     "collapsed": false,
     "input": [
      "from starutils.populations import Raghavan_BinaryPopulation\n",
      "pop = Raghavan_BinaryPopulation(1, n=100)\n",
      "pop.save_hdf('test_raghavan.h5', overwrite=True)\n",
      "pop2 = Raghavan_BinaryPopulation().load_hdf('test_raghavan.h5')"
     ],
     "language": "python",
     "metadata": {},
     "outputs": [],
     "prompt_number": 2
    },
    {
     "cell_type": "code",
     "collapsed": false,
     "input": [
      "from starutils.populations import MultipleStarPopulation\n",
      "pop = MultipleStarPopulation(1, n=100)\n",
      "pop.save_hdf('test_multiple.h5', overwrite=True)\n",
      "pop2 = MultipleStarPopulation().load_hdf('test_multiple.h5')"
     ],
     "language": "python",
     "metadata": {},
     "outputs": [],
     "prompt_number": 3
    },
    {
     "cell_type": "code",
     "collapsed": false,
     "input": [
      "from starutils.populations import BGStarPopulation_TRILEGAL\n",
      "ra, dec = (289.21749900000003, 47.884459999999997) #Kepler-22\n",
      "pop = BGStarPopulation_TRILEGAL('kepler22b.h5', ra, dec)\n",
      "pop.save_hdf('test_bg.h5', overwrite=True)\n",
      "pop2 = BGStarPopulation_TRILEGAL().load_hdf('test_bgpop.h5')"
     ],
     "language": "python",
     "metadata": {},
     "outputs": [],
     "prompt_number": 4
    },
    {
     "cell_type": "code",
     "collapsed": false,
     "input": [
      "from starutils.populations import ColormatchMultipleStarPopulation\n",
      "mags = {'H': 10.211, 'J': 10.523, 'K': 10.152000000000001} #Kepler-22\n",
      "pop = ColormatchMultipleStarPopulation(mags, starfield='kepler22b.h5', n=100)\n",
      "pop.save_hdf('test_colormatch.h5', overwrite=True)\n",
      "pop2 = ColormatchMultipleStarPopulation().load_hdf('test_colormatch.h5')"
     ],
     "language": "python",
     "metadata": {},
     "outputs": [],
     "prompt_number": 5
    },
    {
     "cell_type": "code",
     "collapsed": false,
     "input": [],
     "language": "python",
     "metadata": {},
     "outputs": []
    }
   ],
   "metadata": {}
  }
 ]
}